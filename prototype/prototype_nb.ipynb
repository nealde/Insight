{
 "cells": [
  {
   "cell_type": "code",
   "execution_count": 1,
   "metadata": {},
   "outputs": [],
   "source": [
    "from pyspark import SparkContext\n",
    "import mfun"
   ]
  },
  {
   "cell_type": "code",
   "execution_count": 2,
   "metadata": {},
   "outputs": [],
   "source": [
    "def LeibnizPiCy(Nterms):\n",
    "    sc = SparkContext(appName=\"LeibnizPI\")\n",
    "#     sc.addPyFile(\"mfun.pyx\")\n",
    "    piOver4Minus1 = sc.parallelize(range(0,Nterms+1), 20).map(mfun.Msum_c).reduce(add)\n",
    "    return 4*(1+piOver4Minus1)\n",
    "\n",
    "def LeibnizPi(Nterms):\n",
    "    sc = SparkContext(appName=\"LeibnizPI\")\n",
    "#     sc.addPyFile(\"mfun.pyx\")\n",
    "    piOver4Minus1 = sc.parallelize(range(0,Nterms+1), 20).map(mfun.Msum_c).reduce(add)\n",
    "    return 4*(1+piOver4Minus1)\n"
   ]
  },
  {
   "cell_type": "code",
   "execution_count": 5,
   "metadata": {},
   "outputs": [],
   "source": [
    "# LeibnizPi(99)\n",
    "def Msum(n):\n",
    "    megaN = 1000000*n\n",
    "    s = 0.0\n",
    "    for k in range(1000000):\n",
    "        d0 = 4*(k+1+megaN)+1\n",
    "        d1 = d0-2\n",
    "        s += ((1.0/d0)-(1.0/d1))\n",
    "    return s"
   ]
  },
  {
   "cell_type": "code",
   "execution_count": 6,
   "metadata": {},
   "outputs": [
    {
     "name": "stdout",
     "output_type": "stream",
     "text": [
      "603 ms ± 35.9 ms per loop (mean ± std. dev. of 7 runs, 1 loop each)\n"
     ]
    }
   ],
   "source": [
    "%timeit Msum(10)"
   ]
  },
  {
   "cell_type": "code",
   "execution_count": 2,
   "metadata": {},
   "outputs": [
    {
     "name": "stdout",
     "output_type": "stream",
     "text": [
      "280 ms ± 10.5 ms per loop (mean ± std. dev. of 7 runs, 1 loop each)\n"
     ]
    }
   ],
   "source": [
    "%timeit mfun.Msum_c(10)"
   ]
  },
  {
   "cell_type": "code",
   "execution_count": 10,
   "metadata": {},
   "outputs": [],
   "source": [
    "from numba import jit\n",
    "@jit(nopython=True)\n",
    "def Msum_n(n):\n",
    "    megaN = 1000000*n\n",
    "    s = 0.0\n",
    "    for k in range(1000000):\n",
    "        d0 = 4*(k+1+megaN)+1\n",
    "        d1 = d0-2\n",
    "        s += ((1.0/d0)-(1.0/d1))\n",
    "    return s"
   ]
  },
  {
   "cell_type": "code",
   "execution_count": 11,
   "metadata": {},
   "outputs": [
    {
     "name": "stdout",
     "output_type": "stream",
     "text": [
      "3.45 ms ± 12.8 µs per loop (mean ± std. dev. of 7 runs, 100 loops each)\n"
     ]
    }
   ],
   "source": [
    "%timeit Msum_n(10)"
   ]
  },
  {
   "cell_type": "code",
   "execution_count": null,
   "metadata": {},
   "outputs": [],
   "source": []
  }
 ],
 "metadata": {
  "kernelspec": {
   "display_name": "Python 3",
   "language": "python",
   "name": "python3"
  },
  "language_info": {
   "codemirror_mode": {
    "name": "ipython",
    "version": 3
   },
   "file_extension": ".py",
   "mimetype": "text/x-python",
   "name": "python",
   "nbconvert_exporter": "python",
   "pygments_lexer": "ipython3",
   "version": "3.7.2"
  }
 },
 "nbformat": 4,
 "nbformat_minor": 2
}

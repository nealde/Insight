{
 "cells": [
  {
   "cell_type": "code",
   "execution_count": 1,
   "metadata": {},
   "outputs": [],
   "source": [
    "from pyspark.sql.functions import udf\n",
    "from pyspark.sql.types import StringType\n",
    "from pyspark.sql import SparkSession\n",
    "\n",
    "spark = SparkSession\\\n",
    "    .builder\\\n",
    "    .appName(\"Data Clean\")\\\n",
    "    .getOrCreate()\n",
    "\n",
    "# dirtyData.select('cleaned_body').show()"
   ]
  },
  {
   "cell_type": "code",
   "execution_count": 5,
   "metadata": {},
   "outputs": [],
   "source": [
    "# CUSTOM TRANSFORMER ----------------------------------------------------------------\n",
    "class TextCleaner(Transformer):\n",
    "    \"\"\"\n",
    "    A custom Transformer which drops all columns that have at least one of the\n",
    "    words from the banned_list in the name.\n",
    "    \"\"\"\n",
    "\n",
    "    def __init__(self, inputCol='body', outputCol='cleaned_body'):\n",
    "        super(TextCleaner, self).__init__()\n",
    "#         self.banned_list = banned_list\n",
    "    def clean(line):\n",
    "        print(line)\n",
    "        line = line.lower().replace(\"\\n\",\" \").replace(\"\\r\",\"\").replace(',',\"\").replace(\">\",\"> \").replace(\"<\", \" <\")\n",
    "        return line\n",
    "    clean_udf = udf(lambda r: clean(r), StringType())\n",
    "\n",
    "    def _transform(self, df: DataFrame) -> DataFrame:\n",
    "        df = df.withColumn('cleaned_body', clean_udf(df['body']))\n",
    "        df = df.drop('body')\n",
    "    #         df = df.drop(*[x for x in df.columns if any(y in x for y in self.banned_list)])\n",
    "        return df"
   ]
  },
  {
   "cell_type": "code",
   "execution_count": 15,
   "metadata": {},
   "outputs": [],
   "source": [
    "from pyspark.ml import Pipeline,Transformer\n",
    "from pyspark.ml.feature import HashingTF, IDF, Tokenizer, IDFModel\n",
    "from pyspark.sql import DataFrame\n",
    "\n",
    "def clean(line):\n",
    "    line = line.lower().replace(\"\\n\",\" \").replace(\"\\r\",\"\").replace(',',\"\").replace(\">\",\"> \").replace(\"<\", \" <\")\n",
    "    return line\n",
    "clean_udf = udf(lambda r: clean(r), StringType())\n",
    "\n",
    "dirtyData = spark.read.csv(\"sDirtyc.csv.gz\", header=True, multiLine=True, escape='\"')\n",
    "\n",
    "# cleaner = TextCleaner(inputCol='body', outputCol='cleaned_body')\n",
    "# dirtyData = cleaner.transform(dirtyData)\n",
    "dirtyData = dirtyData.withColumn('cleaned_body', clean_udf(dirtyData['body']))\n",
    "\n",
    "tokenizer = Tokenizer(inputCol=\"cleaned_body\", outputCol=\"words\")\n",
    "hashingTF = HashingTF(inputCol=\"words\", outputCol=\"rawFeatures\", numFeatures=2**12)\n",
    "idf = IDF(inputCol=\"rawFeatures\", outputCol=\"features\")\n",
    "pipeline = Pipeline(stages=[tokenizer, hashingTF, idf])\n",
    "\n",
    "# Fit the pipeline to training documents.\n",
    "model = pipeline.fit(dirtyData)\n",
    "\n",
    "dirtyData = model.transform(dirtyData)\n",
    "\n",
    "# modelPath = \"temp/idf-model\"\n",
    "# model.save(modelPath)\n",
    "# loadedModel = IDFModel.load(modelPath)\n",
    "# sample = loadedModel.transform(featurizedData)\n",
    "\n",
    "# data = spark.read.format(\"parquet\").load(\"test2.parquet\")"
   ]
  },
  {
   "cell_type": "code",
   "execution_count": 16,
   "metadata": {},
   "outputs": [
    {
     "name": "stdout",
     "output_type": "stream",
     "text": [
      "+--------------------+\n",
      "|            features|\n",
      "+--------------------+\n",
      "|(4096,[33,45,53,1...|\n",
      "|(4096,[203,237,24...|\n",
      "|(4096,[16,35,45,5...|\n",
      "|(4096,[56,87,244,...|\n",
      "|(4096,[8,12,19,30...|\n",
      "|(4096,[5,8,32,77,...|\n",
      "|(4096,[12,28,30,5...|\n",
      "|(4096,[12,123,131...|\n",
      "|(4096,[8,22,26,32...|\n",
      "|(4096,[16,56,141,...|\n",
      "|(4096,[19,87,101,...|\n",
      "|(4096,[56,159,244...|\n",
      "|(4096,[15,56,123,...|\n",
      "|(4096,[8,33,45,12...|\n",
      "|(4096,[2,8,32,99,...|\n",
      "|(4096,[12,56,123,...|\n",
      "|(4096,[244,513,61...|\n",
      "|(4096,[25,244,325...|\n",
      "|(4096,[1,56,140,1...|\n",
      "|(4096,[56,77,159,...|\n",
      "+--------------------+\n",
      "only showing top 20 rows\n",
      "\n"
     ]
    }
   ],
   "source": [
    "dirtyData.select('features').show()"
   ]
  },
  {
   "cell_type": "code",
   "execution_count": 120,
   "metadata": {},
   "outputs": [
    {
     "ename": "AttributeError",
     "evalue": "'list' object has no attribute 'save'",
     "output_type": "error",
     "traceback": [
      "\u001b[0;31m---------------------------------------------------------------------------\u001b[0m",
      "\u001b[0;31mAttributeError\u001b[0m                            Traceback (most recent call last)",
      "\u001b[0;32m<ipython-input-120-11554a3c4e05>\u001b[0m in \u001b[0;36m<module>\u001b[0;34m\u001b[0m\n\u001b[0;32m----> 1\u001b[0;31m \u001b[0mmodel\u001b[0m\u001b[0;34m.\u001b[0m\u001b[0mstages\u001b[0m\u001b[0;34m[\u001b[0m\u001b[0;36m1\u001b[0m\u001b[0;34m:\u001b[0m\u001b[0;34m]\u001b[0m\u001b[0;34m.\u001b[0m\u001b[0msave\u001b[0m\u001b[0;34m(\u001b[0m\u001b[0;34m'model2'\u001b[0m\u001b[0;34m)\u001b[0m\u001b[0;34m\u001b[0m\u001b[0;34m\u001b[0m\u001b[0m\n\u001b[0m\u001b[1;32m      2\u001b[0m \u001b[0;31m# idf = model.stages[2]\u001b[0m\u001b[0;34m\u001b[0m\u001b[0;34m\u001b[0m\u001b[0;34m\u001b[0m\u001b[0m\n\u001b[1;32m      3\u001b[0m \u001b[0;31m# idf.save('')\u001b[0m\u001b[0;34m\u001b[0m\u001b[0;34m\u001b[0m\u001b[0;34m\u001b[0m\u001b[0m\n",
      "\u001b[0;31mAttributeError\u001b[0m: 'list' object has no attribute 'save'"
     ]
    }
   ],
   "source": [
    "model.save('model2')\n",
    "# idf = model.stages[2]\n",
    "# idf.save('')"
   ]
  },
  {
   "cell_type": "code",
   "execution_count": 93,
   "metadata": {},
   "outputs": [
    {
     "name": "stdout",
     "output_type": "stream",
     "text": [
      " <p> it seems openstreetmap has changed their licensing scheme as a result lots of data were deleted as shown in the attached picture which is grafton nsw 2460 australia almost all streets are gone. </p>    <p> my question is: is there any way to download the old data somewhere by providing lat/lng's? (i understand that there could be some old archives for world or some countries but that doesn't work for me because at the moment my application is not capable to process those massive data files) </p>    <p> if there's no way to download the old data is there any other good free map data (not images) available? </p>    <p> also i've noticed that there're 4 options at the top right corner the other three except standard seem to be showing all streets. they are (at least mapquest) based on osm data but not the one we get from the \"export\" section of openstreetmap.org is that correct?  </p>    <p> edit: oops as a new user i cannot post images.. the below link may work (or may not): </p>    <p>  <a href=\"http://i.stack.imgur.com/ieixt.png\" rel=\"nofollow\"> http://i.stack.imgur.com/ieixt.png </a>  </p>    <p> (it's just 2 snapshots of grafton nsw 2460 australia one of standard one of mapquest open) </p> \n"
     ]
    }
   ],
   "source": [
    "test = dirtyData.take(3)\n",
    "test = [x['cleaned_body'] for x in test]\n",
    "print(test[0])\n",
    "# test = spark.createDataFrame(dirtyData.take(3))"
   ]
  },
  {
   "cell_type": "code",
   "execution_count": 94,
   "metadata": {},
   "outputs": [],
   "source": [
    "from pyspark.sql.types import StringType\n",
    "stest = spark.createDataFrame([(x,) for x in test], ['cleaned_body'])"
   ]
  },
  {
   "cell_type": "code",
   "execution_count": 95,
   "metadata": {},
   "outputs": [
    {
     "name": "stdout",
     "output_type": "stream",
     "text": [
      "Row(features=SparseVector(4096, {33: 2.0502, 45: 1.8425, 53: 7.8439, 104: 9.6865, 131: 2.5357, 146: 3.5165, 149: 3.5165, 159: 0.5208, 179: 2.8234, 193: 3.2288, 244: 0.2031, 309: 2.1302, 311: 3.4482, 328: 2.5357, 331: 2.4278, 338: 1.5241, 392: 2.9593, 406: 2.2172, 408: 3.2288, 429: 3.5165, 541: 2.5357, 542: 3.2288, 602: 1.7247, 618: 3.0057, 621: 3.922, 744: 3.2288, 790: 3.2288, 836: 3.0482, 843: 2.6692, 892: 3.2288, 901: 3.2288, 911: 3.5165, 987: 2.6692, 988: 1.573, 991: 12.301, 993: 1.3193, 1042: 3.8141, 1141: 3.922, 1155: 3.922, 1267: 1.2897, 1269: 0.3111, 1273: 1.3962, 1278: 3.922, 1280: 2.3125, 1322: 12.0227, 1347: 1.357, 1354: 3.922, 1380: 5.0714, 1411: 1.7247, 1429: 3.5165, 1432: 3.0057, 1438: 1.4921, 1447: 3.5155, 1480: 3.922, 1502: 3.0057, 1575: 5.0714, 1591: 1.2478, 1593: 2.2172, 1689: 3.0057, 1706: 1.7247, 1769: 3.922, 1788: 3.4482, 1900: 3.922, 1911: 7.033, 1934: 1.9071, 1954: 0.8085, 1994: 1.0316, 2041: 1.7819, 2071: 1.6194, 2087: 7.033, 2130: 0.4168, 2179: 3.2288, 2227: 3.5165, 2297: 3.2288, 2318: 3.922, 2391: 3.922, 2464: 5.3384, 2472: 3.2288, 2481: 2.1302, 2492: 4.7118, 2570: 3.0057, 2637: 7.033, 2647: 3.1412, 2651: 0.0, 2802: 3.2288, 2810: 2.8234, 2822: 3.2288, 2824: 3.4495, 2840: 2.8234, 2848: 1.3193, 2865: 1.2829, 2869: 3.922, 2911: 3.922, 2916: 3.922, 2951: 2.8234, 2963: 2.0502, 3017: 2.5357, 3039: 3.0057, 3096: 3.5165, 3157: 2.4179, 3172: 1.2478, 3282: 3.0482, 3312: 2.2372, 3314: 2.5357, 3392: 2.1503, 3420: 0.0, 3438: 3.922, 3465: 3.922, 3481: 3.0057, 3499: 3.0057, 3509: 1.6194, 3601: 0.9814, 3622: 3.922, 3701: 1.7819, 3707: 2.8234, 3722: 3.2288, 3776: 2.0502, 3787: 3.5165, 3874: 0.0, 3896: 3.922, 3902: 2.6692, 3916: 2.3125, 3929: 5.0714, 3930: 2.0084, 3937: 0.0825, 3945: 2.6692, 3959: 1.3193, 3974: 3.2288, 3986: 3.922, 4008: 3.922, 4040: 2.0502, 4044: 1.1795, 4080: 2.8234}))\n",
      "Row(features=SparseVector(4096, {203: 3.0057, 237: 3.0057, 244: 0.1523, 249: 3.2288, 305: 14.066, 392: 2.9593, 405: 2.6692, 652: 3.2288, 732: 4.6251, 799: 3.5165, 829: 10.1427, 988: 1.573, 993: 1.3193, 994: 1.7819, 1004: 0.4562, 1186: 0.472, 1243: 5.5276, 1269: 0.3111, 1279: 2.5357, 1368: 3.2288, 1438: 0.7461, 1545: 2.6692, 1591: 3.7435, 1696: 6.0114, 1828: 3.0057, 1840: 3.6418, 1933: 3.922, 1994: 1.0316, 2045: 0.5721, 2130: 0.8336, 2135: 0.3666, 2211: 3.0057, 2291: 1.8425, 2312: 3.2288, 2397: 3.5165, 2430: 3.5165, 2508: 3.922, 2651: 0.0, 2833: 0.3524, 2848: 1.3193, 2865: 5.1317, 2877: 3.5165, 2896: 6.4577, 2899: 6.4577, 3157: 4.8358, 3208: 6.4577, 3335: 3.0057, 3383: 3.2288, 3392: 0.5376, 3420: 0.0, 3458: 2.4278, 3499: 3.0057, 3509: 1.6194, 3534: 8.4701, 3565: 9.017, 3586: 0.8539, 3601: 0.7851, 3619: 1.2156, 3742: 1.2139, 3874: 0.0, 3931: 2.0502, 3934: 3.0057, 3937: 0.4951, 3959: 1.3193, 4044: 0.5898, 4081: 2.8234}))\n",
      "Row(features=SparseVector(4096, {16: 5.6467, 35: 2.3125, 45: 7.3701, 54: 3.5165, 56: 1.1186, 155: 3.2288, 159: 0.5208, 161: 2.6692, 184: 3.5165, 186: 3.922, 240: 4.2604, 244: 0.0508, 311: 1.1494, 331: 1.2139, 357: 7.8439, 383: 3.922, 384: 3.2288, 404: 2.6386, 406: 2.2172, 533: 3.5165, 536: 12.9153, 602: 1.7247, 701: 6.2391, 728: 3.2288, 745: 5.1317, 759: 3.922, 776: 9.6716, 820: 5.6467, 864: 3.5165, 876: 10.0675, 904: 3.922, 982: 2.1302, 988: 1.573, 994: 1.7819, 1004: 0.9125, 1057: 2.3125, 1092: 3.0057, 1103: 3.5165, 1107: 3.922, 1111: 3.0057, 1112: 7.8439, 1152: 2.8234, 1160: 3.922, 1186: 0.944, 1197: 3.0057, 1248: 3.0057, 1267: 0.6448, 1269: 0.9332, 1273: 5.585, 1332: 3.5165, 1348: 2.6692, 1372: 2.8234, 1411: 1.7247, 1444: 11.2934, 1447: 0.7031, 1493: 3.922, 1499: 2.1302, 1513: 7.8439, 1527: 3.922, 1545: 2.6692, 1565: 0.3524, 1586: 5.5276, 1589: 2.5357, 1593: 2.2172, 1653: 3.5165, 1658: 3.0057, 1794: 3.2288, 1876: 3.922, 2002: 3.922, 2006: 3.2288, 2013: 3.0057, 2026: 2.3125, 2041: 1.7819, 2048: 3.5165, 2117: 3.5165, 2124: 7.033, 2130: 0.2084, 2135: 1.0999, 2166: 3.2288, 2197: 3.2288, 2215: 3.2288, 2221: 3.922, 2283: 2.3125, 2291: 1.8425, 2445: 3.9521, 2461: 3.5165, 2520: 10.6768, 2591: 3.922, 2608: 3.5165, 2651: 0.0, 2733: 2.5357, 2789: 5.5931, 2827: 3.5165, 2833: 1.0573, 2939: 3.922, 2965: 14.066, 3026: 3.5165, 3060: 3.922, 3067: 3.5165, 3159: 2.4179, 3244: 2.4179, 3297: 3.5165, 3320: 3.5165, 3392: 0.5376, 3396: 6.0114, 3412: 3.2288, 3417: 10.5495, 3420: 0.0, 3424: 3.922, 3447: 3.0057, 3458: 1.2139, 3498: 2.8234, 3549: 3.2288, 3601: 0.1963, 3610: 12.0227, 3618: 3.5165, 3662: 3.0057, 3665: 2.8234, 3669: 7.033, 3675: 3.5165, 3680: 3.922, 3762: 3.0057, 3766: 3.0057, 3816: 3.0057, 3833: 3.5165, 3874: 0.0, 3927: 3.922, 3937: 0.4126, 3939: 14.066, 4083: 3.922, 4086: 3.0057}))\n"
     ]
    }
   ],
   "source": [
    "prediction = model.transform(stest)\n",
    "selected = prediction.select(\"features\")\n",
    "for row in selected.collect():\n",
    "    print(row)\n",
    "#     rid, text, prob, prediction = row\n",
    "#     print(\"(%d, %s) --> prob=%s, prediction=%f\" % (rid, text, str(prob), prediction))"
   ]
  },
  {
   "cell_type": "code",
   "execution_count": 97,
   "metadata": {},
   "outputs": [],
   "source": [
    "# now read all the data from the text file and map a function to write it to redis\n",
    "dd = model.transform(dirtyData).select('id','title','cleaned_body','accepted_answer_id','creation_date','features', 'tags')\n",
    "# %time dd.show()\n",
    "# test.show()"
   ]
  },
  {
   "cell_type": "code",
   "execution_count": 29,
   "metadata": {},
   "outputs": [],
   "source": [
    "# write a simple O(n) function to pull out the tags and also write the IDs\n",
    "def save_to_redis(row):\n",
    "    \n",
    "#     print(row['tags'])\n",
    "    tags = row['tags'].split('|')\n",
    "    idd = row['id']\n",
    "    title = row['title']\n",
    "    body = row['cleaned_body']\n",
    "    creation = row['creation_date']\n",
    "    acc = row['accepted_answer_id']\n",
    "    embed = row['features']\n",
    "    print(\"|\".join([str(embed.size), str(list(embed.indices)),str(list(embed.values))]))\n",
    "#     idd, title, body, acc, creation, embed, tags = row[0]\n",
    "#     print(tags, idd)\n",
    "#     print(idd, title, 'b', int(float(acc)), creation, embed)\n",
    "    for tag in tags:\n",
    "        try:\n",
    "            curr = r.get(tag)\n",
    "        except:\n",
    "            curr = \"\"\n",
    "            print('%s not found' %tag)\n",
    "        r.set(tag, curr+\",\"+idd)\n",
    "    return row\n",
    "    #for item in row[0]:\n",
    "        \n",
    "#         print(type(item))\n",
    "    # want to save two simple \n",
    "#     for row in df:\n",
    "#         print(row)"
   ]
  },
  {
   "cell_type": "code",
   "execution_count": 34,
   "metadata": {},
   "outputs": [
    {
     "name": "stdout",
     "output_type": "stream",
     "text": [
      "4096|[5, 8, 32, 77, 99, 122, 123, 167, 191, 240, 244, 331, 347, 353, 365, 392, 400, 424, 540, 589, 606, 610, 611, 658, 668, 687, 754, 755, 823, 836, 862, 876, 932, 991, 1004, 1017, 1042, 1069, 1102, 1167, 1186, 1265, 1267, 1269, 1281, 1376, 1378, 1411, 1417, 1428, 1432, 1438, 1447, 1467, 1499, 1502, 1565, 1591, 1593, 1634, 1673, 1687, 1740, 1757, 1788, 1806, 1826, 1840, 1895, 1920, 1941, 1976, 1994, 2045, 2071, 2088, 2130, 2135, 2163, 2213, 2246, 2267, 2274, 2376, 2395, 2408, 2579, 2583, 2605, 2621, 2638, 2647, 2651, 2660, 2695, 2733, 2789, 2818, 2833, 2853, 2859, 2886, 2899, 2907, 2912, 2946, 3051, 3053, 3152, 3216, 3236, 3270, 3305, 3312, 3331, 3389, 3392, 3411, 3420, 3450, 3458, 3483, 3565, 3586, 3599, 3601, 3619, 3632, 3662, 3691, 3802, 3874, 3921, 3924, 3930, 3937, 3959, 4044, 4078, 4084]|[3.5165082281731497, 1.0316015783851493, 5.6467220952264086, 1.7247487589450947, 2.6692103677859462, 2.8233610476132043, 2.0501711593797225, 3.228826155721369, 1.8425317946014783, 2.130213867053259, 0.20308930149369256, 1.213923135179104, 11.765920008843942, 3.5165082281731497, 2.130213867053259, 1.4796263009121098, 3.228826155721369, 5.527595383804435, 3.9219733362813143, 0.877450898557891, 0.9262410627273231, 3.9219733362813143, 3.228826155721369, 9.686478467164108, 3.228826155721369, 3.9219733362813143, 2.6692103677859462, 3.9219733362813143, 3.228826155721369, 1.5240780634829436, 3.9219733362813143, 5.593064776873896, 3.228826155721369, 6.1505134781391675, 1.3687123004447628, 3.9219733362813143, 1.9070703157390494, 7.6070369254842705, 3.9219733362813143, 7.033016456346299, 1.8879431617989073, 4.260427734106518, 1.2896572065782752, 1.2442216945483588, 3.4494975178901894, 8.470083142839613, 3.5165082281731497, 3.4494975178901894, 15.687893345125257, 2.495649373709571, 6.011365208814318, 1.9397611764267848, 1.4061950228262268, 3.5165082281731497, 2.130213867053259, 3.005682604407159, 1.0573219193998322, 1.2478246868547855, 2.217225244042889, 5.071357950322847, 3.5165082281731497, 3.9219733362813143, 8.470083142839613, 3.5165082281731497, 3.448153842124599, 15.687893345125257, 3.005682604407159, 1.213923135179104, 2.8233610476132043, 3.5165082281731497, 3.228826155721369, 2.8233610476132043, 2.0632031567702986, 1.7162077470201278, 3.2387764865745368, 2.5356789751614235, 1.0420063478850317, 1.0998758243757014, 1.9070703157390494, 2.41789593950504, 14.066032912692599, 3.5165082281731497, 3.228826155721369, 11.765920008843942, 3.9219733362813143, 15.687893345125257, 3.228826155721369, 3.9219733362813143, 2.41789593950504, 4.100342318759445, 7.033016456346299, 6.282392316471346, 0.0, 3.9219733362813143, 8.470083142839613, 12.678394875807118, 1.1186129553747792, 3.9219733362813143, 1.0573219193998322, 5.3384207355718925, 11.765920008843942, 3.9219733362813143, 3.228826155721369, 7.033016456346299, 1.9070703157390494, 6.457652311442738, 3.5165082281731497, 2.41789593950504, 3.228826155721369, 2.8233610476132043, 3.005682604407159, 3.228826155721369, 0.7864791203521645, 1.1186129553747792, 1.7819071727850435, 2.312535423847214, 0.5375830729355401, 7.843946672562629, 0.0, 3.5165082281731497, 2.427846270358208, 9.686478467164108, 30.05682604407159, 5.97744280803388, 7.033016456346299, 0.19627990904466155, 0.6077873316087886, 2.8233610476132043, 6.011365208814318, 3.5165082281731497, 3.9219733362813143, 0.0, 2.8233610476132043, 3.9219733362813143, 1.004202604197035, 0.3300840947520138, 1.3192836508369303, 3.5386129566366615, 3.005682604407159, 8.470083142839613]\n",
      "python not found\n"
     ]
    },
    {
     "ename": "NameError",
     "evalue": "name 'r' is not defined",
     "output_type": "error",
     "traceback": [
      "\u001b[0;31m---------------------------------------------------------------------------\u001b[0m",
      "\u001b[0;31mNameError\u001b[0m                                 Traceback (most recent call last)",
      "\u001b[0;32m<ipython-input-34-57aaafc60f84>\u001b[0m in \u001b[0;36m<module>\u001b[0;34m\u001b[0m\n\u001b[1;32m      1\u001b[0m \u001b[0mtemp\u001b[0m \u001b[0;34m=\u001b[0m \u001b[0mdirtyData\u001b[0m\u001b[0;34m.\u001b[0m\u001b[0mtake\u001b[0m\u001b[0;34m(\u001b[0m\u001b[0;36m10\u001b[0m\u001b[0;34m)\u001b[0m\u001b[0;34m\u001b[0m\u001b[0;34m\u001b[0m\u001b[0m\n\u001b[0;32m----> 2\u001b[0;31m \u001b[0msave_to_redis\u001b[0m\u001b[0;34m(\u001b[0m\u001b[0mtemp\u001b[0m\u001b[0;34m[\u001b[0m\u001b[0;36m5\u001b[0m\u001b[0;34m]\u001b[0m\u001b[0;34m)\u001b[0m\u001b[0;34m\u001b[0m\u001b[0;34m\u001b[0m\u001b[0m\n\u001b[0m",
      "\u001b[0;32m<ipython-input-29-e263de4b8822>\u001b[0m in \u001b[0;36msave_to_redis\u001b[0;34m(row)\u001b[0m\n\u001b[1;32m     20\u001b[0m             \u001b[0mcurr\u001b[0m \u001b[0;34m=\u001b[0m \u001b[0;34m\"\"\u001b[0m\u001b[0;34m\u001b[0m\u001b[0;34m\u001b[0m\u001b[0m\n\u001b[1;32m     21\u001b[0m             \u001b[0mprint\u001b[0m\u001b[0;34m(\u001b[0m\u001b[0;34m'%s not found'\u001b[0m \u001b[0;34m%\u001b[0m\u001b[0mtag\u001b[0m\u001b[0;34m)\u001b[0m\u001b[0;34m\u001b[0m\u001b[0;34m\u001b[0m\u001b[0m\n\u001b[0;32m---> 22\u001b[0;31m         \u001b[0mr\u001b[0m\u001b[0;34m.\u001b[0m\u001b[0mset\u001b[0m\u001b[0;34m(\u001b[0m\u001b[0mtag\u001b[0m\u001b[0;34m,\u001b[0m \u001b[0mcurr\u001b[0m\u001b[0;34m+\u001b[0m\u001b[0;34m\",\"\u001b[0m\u001b[0;34m+\u001b[0m\u001b[0midd\u001b[0m\u001b[0;34m)\u001b[0m\u001b[0;34m\u001b[0m\u001b[0;34m\u001b[0m\u001b[0m\n\u001b[0m\u001b[1;32m     23\u001b[0m     \u001b[0;32mreturn\u001b[0m \u001b[0mrow\u001b[0m\u001b[0;34m\u001b[0m\u001b[0;34m\u001b[0m\u001b[0m\n\u001b[1;32m     24\u001b[0m     \u001b[0;31m#for item in row[0]:\u001b[0m\u001b[0;34m\u001b[0m\u001b[0;34m\u001b[0m\u001b[0;34m\u001b[0m\u001b[0m\n",
      "\u001b[0;31mNameError\u001b[0m: name 'r' is not defined"
     ]
    }
   ],
   "source": [
    "temp = dirtyData.take(10)\n",
    "save_to_redis(temp[5])"
   ]
  },
  {
   "cell_type": "code",
   "execution_count": null,
   "metadata": {},
   "outputs": [],
   "source": [
    "import redis\n",
    "\n",
    "redis_host = '10.0.0.7'\n",
    "redis_port = 6379\n",
    "redis_password = 'AhrIykRVjO9GHA52kmYou7iUrsDbzJL+/7vjeTYhsLmpskyAY8tnucf4QJ7FpvVzFNNKuIZVVkh1LRxF'\n",
    "\n",
    "def hello_redis(n):\n",
    "    \"\"\"Example Hello Redis Program\"\"\"\n",
    "   \n",
    "    # step 3: create the Redis Connection object\n",
    "    try:\n",
    "   \n",
    "        # The decode_repsonses flag here directs the client to convert the responses from Redis into Python strings\n",
    "        # using the default encoding utf-8.  This is client specific.\n",
    "        #r = redis.StrictRedis(host=redis_host, port=redis_port, password=redis_password, decode_responses=True)\n",
    "        r = redis.Redis(host=redis_host, port=redis_port, password=redis_pasword)\n",
    "        # step 4: Set the hello message in Redis\n",
    "        r.set(\"t1\", \"1\")\n",
    "\n",
    "        # step 5: Retrieve the hello message from Redis\n",
    "        msg = r.get(\"t1\")\n",
    "        for i in range(n):\n",
    "            r.set(\"t1\", msg+str(i))\n",
    "            msg = r.get(\"t1\")\n",
    "        print(msg)        \n",
    "   \n",
    "    except Exception as e:\n",
    "        print(e)\n",
    "\n",
    "if __name__ == '__main__':\n",
    "    hello_redis(10)\n",
    "\n"
   ]
  },
  {
   "cell_type": "code",
   "execution_count": null,
   "metadata": {},
   "outputs": [],
   "source": [
    "    for tag in tags:\n",
    "        curr = r.get(tag)\n",
    "        if curr is None:\n",
    "            r.set(tag, idd)\n",
    "        else:\n",
    "            r.set(tag, curr+\",\"+idd)"
   ]
  },
  {
   "cell_type": "code",
   "execution_count": 31,
   "metadata": {},
   "outputs": [],
   "source": [
    "a = \"blahblah blah|(4096|[1,2,5,6,8,10]|[15,0,12,15.5,20])\""
   ]
  },
  {
   "cell_type": "code",
   "execution_count": 33,
   "metadata": {},
   "outputs": [
    {
     "name": "stdout",
     "output_type": "stream",
     "text": [
      "['blahblah blah', '(4096', '[1,2,5,6,8,10]', '[15,0,12,15.5,20])']\n",
      "4096 [ 1.  2.  5.  6.  8. 10.] [15.   0.  12.  15.5 20. ]\n"
     ]
    }
   ],
   "source": [
    "import numpy as np\n",
    "# b = np.fromstring(a)\n",
    "def string_to_sparse(string):\n",
    "    string = string.split('|')\n",
    "    print(string)\n",
    "    title = string[0]\n",
    "    size = int(string[1][1:])\n",
    "    inds = np.fromstring(string[2][1:-1], sep=',')\n",
    "    vals = np.fromstring(string[3][1:-2], sep=',')\n",
    "    print(size, inds, vals)\n",
    "    return\n",
    "\n",
    "# def string_to_sparse(string):\n",
    "#     escape = [\"[\",\"]\"]\n",
    "#     ins = False\n",
    "#     inds = []\n",
    "#     for i, char in enumerate(string[1:-1]):\n",
    "#         if char in escape:\n",
    "#             if ins == True:\n",
    "#                 ins = False\n",
    "#             else:\n",
    "#                 ins = True\n",
    "# #             print(ins)\n",
    "#         elif char == ',' and ins == False:\n",
    "#             inds.append(i)\n",
    "# #     print(inds)\n",
    "#     return\n",
    "string_to_sparse(a)"
   ]
  },
  {
   "cell_type": "code",
   "execution_count": 19,
   "metadata": {},
   "outputs": [],
   "source": [
    "# prin\n",
    "from scipy.sparse import csr_matrix"
   ]
  },
  {
   "cell_type": "code",
   "execution_count": 23,
   "metadata": {},
   "outputs": [
    {
     "ename": "TypeError",
     "evalue": "invalid input format",
     "output_type": "error",
     "traceback": [
      "\u001b[0;31m---------------------------------------------------------------------------\u001b[0m",
      "\u001b[0;31mValueError\u001b[0m                                Traceback (most recent call last)",
      "\u001b[0;32m~/miniconda3/envs/keras/lib/python3.7/site-packages/scipy/sparse/coo.py\u001b[0m in \u001b[0;36m__init__\u001b[0;34m(self, arg1, shape, dtype, copy)\u001b[0m\n\u001b[1;32m    139\u001b[0m                 \u001b[0;32mtry\u001b[0m\u001b[0;34m:\u001b[0m\u001b[0;34m\u001b[0m\u001b[0;34m\u001b[0m\u001b[0m\n\u001b[0;32m--> 140\u001b[0;31m                     \u001b[0mobj\u001b[0m\u001b[0;34m,\u001b[0m \u001b[0;34m(\u001b[0m\u001b[0mrow\u001b[0m\u001b[0;34m,\u001b[0m \u001b[0mcol\u001b[0m\u001b[0;34m)\u001b[0m \u001b[0;34m=\u001b[0m \u001b[0marg1\u001b[0m\u001b[0;34m\u001b[0m\u001b[0;34m\u001b[0m\u001b[0m\n\u001b[0m\u001b[1;32m    141\u001b[0m                 \u001b[0;32mexcept\u001b[0m \u001b[0;34m(\u001b[0m\u001b[0mTypeError\u001b[0m\u001b[0;34m,\u001b[0m \u001b[0mValueError\u001b[0m\u001b[0;34m)\u001b[0m\u001b[0;34m:\u001b[0m\u001b[0;34m\u001b[0m\u001b[0;34m\u001b[0m\u001b[0m\n",
      "\u001b[0;31mValueError\u001b[0m: not enough values to unpack (expected 2, got 1)",
      "\nDuring handling of the above exception, another exception occurred:\n",
      "\u001b[0;31mTypeError\u001b[0m                                 Traceback (most recent call last)",
      "\u001b[0;32m<ipython-input-23-ffd734588f0e>\u001b[0m in \u001b[0;36m<module>\u001b[0;34m\u001b[0m\n\u001b[1;32m      2\u001b[0m \u001b[0mrow\u001b[0m \u001b[0;34m=\u001b[0m \u001b[0;34m[\u001b[0m\u001b[0;36m1\u001b[0m\u001b[0;34m,\u001b[0m\u001b[0;36m2\u001b[0m\u001b[0;34m,\u001b[0m\u001b[0;36m5\u001b[0m\u001b[0;34m,\u001b[0m\u001b[0;36m6\u001b[0m\u001b[0;34m,\u001b[0m\u001b[0;36m8\u001b[0m\u001b[0;34m,\u001b[0m\u001b[0;36m10\u001b[0m\u001b[0;34m]\u001b[0m\u001b[0;34m\u001b[0m\u001b[0;34m\u001b[0m\u001b[0m\n\u001b[1;32m      3\u001b[0m \u001b[0msize\u001b[0m \u001b[0;34m=\u001b[0m \u001b[0;36m4096\u001b[0m\u001b[0;34m\u001b[0m\u001b[0;34m\u001b[0m\u001b[0m\n\u001b[0;32m----> 4\u001b[0;31m \u001b[0maa\u001b[0m \u001b[0;34m=\u001b[0m \u001b[0mcsr_matrix\u001b[0m\u001b[0;34m(\u001b[0m\u001b[0;34m(\u001b[0m\u001b[0mdata\u001b[0m\u001b[0;34m,\u001b[0m \u001b[0;34m(\u001b[0m\u001b[0mrow\u001b[0m\u001b[0;34m,\u001b[0m\u001b[0;34m)\u001b[0m\u001b[0;34m)\u001b[0m\u001b[0;34m,\u001b[0m \u001b[0mshape\u001b[0m\u001b[0;34m=\u001b[0m\u001b[0;34m(\u001b[0m\u001b[0msize\u001b[0m\u001b[0;34m,\u001b[0m\u001b[0;34m)\u001b[0m\u001b[0;34m)\u001b[0m\u001b[0;34m\u001b[0m\u001b[0;34m\u001b[0m\u001b[0m\n\u001b[0m",
      "\u001b[0;32m~/miniconda3/envs/keras/lib/python3.7/site-packages/scipy/sparse/compressed.py\u001b[0m in \u001b[0;36m__init__\u001b[0;34m(self, arg1, shape, dtype, copy)\u001b[0m\n\u001b[1;32m     50\u001b[0m                     \u001b[0;31m# (data, ij) format\u001b[0m\u001b[0;34m\u001b[0m\u001b[0;34m\u001b[0m\u001b[0;34m\u001b[0m\u001b[0m\n\u001b[1;32m     51\u001b[0m                     \u001b[0;32mfrom\u001b[0m \u001b[0;34m.\u001b[0m\u001b[0mcoo\u001b[0m \u001b[0;32mimport\u001b[0m \u001b[0mcoo_matrix\u001b[0m\u001b[0;34m\u001b[0m\u001b[0;34m\u001b[0m\u001b[0m\n\u001b[0;32m---> 52\u001b[0;31m                     \u001b[0mother\u001b[0m \u001b[0;34m=\u001b[0m \u001b[0mself\u001b[0m\u001b[0;34m.\u001b[0m\u001b[0m__class__\u001b[0m\u001b[0;34m(\u001b[0m\u001b[0mcoo_matrix\u001b[0m\u001b[0;34m(\u001b[0m\u001b[0marg1\u001b[0m\u001b[0;34m,\u001b[0m \u001b[0mshape\u001b[0m\u001b[0;34m=\u001b[0m\u001b[0mshape\u001b[0m\u001b[0;34m)\u001b[0m\u001b[0;34m)\u001b[0m\u001b[0;34m\u001b[0m\u001b[0;34m\u001b[0m\u001b[0m\n\u001b[0m\u001b[1;32m     53\u001b[0m                     \u001b[0mself\u001b[0m\u001b[0;34m.\u001b[0m\u001b[0m_set_self\u001b[0m\u001b[0;34m(\u001b[0m\u001b[0mother\u001b[0m\u001b[0;34m)\u001b[0m\u001b[0;34m\u001b[0m\u001b[0;34m\u001b[0m\u001b[0m\n\u001b[1;32m     54\u001b[0m                 \u001b[0;32melif\u001b[0m \u001b[0mlen\u001b[0m\u001b[0;34m(\u001b[0m\u001b[0marg1\u001b[0m\u001b[0;34m)\u001b[0m \u001b[0;34m==\u001b[0m \u001b[0;36m3\u001b[0m\u001b[0;34m:\u001b[0m\u001b[0;34m\u001b[0m\u001b[0;34m\u001b[0m\u001b[0m\n",
      "\u001b[0;32m~/miniconda3/envs/keras/lib/python3.7/site-packages/scipy/sparse/coo.py\u001b[0m in \u001b[0;36m__init__\u001b[0;34m(self, arg1, shape, dtype, copy)\u001b[0m\n\u001b[1;32m    140\u001b[0m                     \u001b[0mobj\u001b[0m\u001b[0;34m,\u001b[0m \u001b[0;34m(\u001b[0m\u001b[0mrow\u001b[0m\u001b[0;34m,\u001b[0m \u001b[0mcol\u001b[0m\u001b[0;34m)\u001b[0m \u001b[0;34m=\u001b[0m \u001b[0marg1\u001b[0m\u001b[0;34m\u001b[0m\u001b[0;34m\u001b[0m\u001b[0m\n\u001b[1;32m    141\u001b[0m                 \u001b[0;32mexcept\u001b[0m \u001b[0;34m(\u001b[0m\u001b[0mTypeError\u001b[0m\u001b[0;34m,\u001b[0m \u001b[0mValueError\u001b[0m\u001b[0;34m)\u001b[0m\u001b[0;34m:\u001b[0m\u001b[0;34m\u001b[0m\u001b[0;34m\u001b[0m\u001b[0m\n\u001b[0;32m--> 142\u001b[0;31m                     \u001b[0;32mraise\u001b[0m \u001b[0mTypeError\u001b[0m\u001b[0;34m(\u001b[0m\u001b[0;34m'invalid input format'\u001b[0m\u001b[0;34m)\u001b[0m\u001b[0;34m\u001b[0m\u001b[0;34m\u001b[0m\u001b[0m\n\u001b[0m\u001b[1;32m    143\u001b[0m \u001b[0;34m\u001b[0m\u001b[0m\n\u001b[1;32m    144\u001b[0m                 \u001b[0;32mif\u001b[0m \u001b[0mshape\u001b[0m \u001b[0;32mis\u001b[0m \u001b[0;32mNone\u001b[0m\u001b[0;34m:\u001b[0m\u001b[0;34m\u001b[0m\u001b[0;34m\u001b[0m\u001b[0m\n",
      "\u001b[0;31mTypeError\u001b[0m: invalid input format"
     ]
    }
   ],
   "source": [
    "data = [15,0,12,15.5,20]\n",
    "row = [1,2,5,6,8,10]\n",
    "size = 4096\n",
    "aa = csr_matrix((data, (row,)), shape=(size,))"
   ]
  },
  {
   "cell_type": "code",
   "execution_count": null,
   "metadata": {},
   "outputs": [],
   "source": []
  }
 ],
 "metadata": {
  "kernelspec": {
   "display_name": "Python 3",
   "language": "python",
   "name": "python3"
  },
  "language_info": {
   "codemirror_mode": {
    "name": "ipython",
    "version": 3
   },
   "file_extension": ".py",
   "mimetype": "text/x-python",
   "name": "python",
   "nbconvert_exporter": "python",
   "pygments_lexer": "ipython3",
   "version": "3.7.2"
  }
 },
 "nbformat": 4,
 "nbformat_minor": 2
}

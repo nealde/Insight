{
 "cells": [
  {
   "cell_type": "code",
   "execution_count": 4,
   "metadata": {},
   "outputs": [
    {
     "name": "stdout",
     "output_type": "stream",
     "text": [
      "+-----+--------------------+--------------------+\n",
      "|label|         rawFeatures|            features|\n",
      "+-----+--------------------+--------------------+\n",
      "|  0.0|(20,[4,8,9],[1.0,...|(20,[4,8,9],[0.28...|\n",
      "|  0.0|(20,[4,5,15,16],[...|(20,[4,5,15,16],[...|\n",
      "|  1.0|(20,[0,1,5,14],[1...|(20,[0,1,5,14],[0...|\n",
      "+-----+--------------------+--------------------+\n",
      "\n"
     ]
    }
   ],
   "source": [
    "from pyspark.ml.feature import HashingTF, IDF, Tokenizer\n",
    "from pyspark.sql import SparkSession\n",
    " \n",
    "# if __name__ == \"__main__\":\n",
    "spark = SparkSession\\\n",
    "    .builder\\\n",
    "    .appName(\"TfIdf Example\")\\\n",
    "    .getOrCreate()\n",
    "\n",
    "sentenceData = spark.createDataFrame([\n",
    "    (0.0, \"Welcome to TutorialKart.\"),\n",
    "    (0.0, \"Learn Spark at TutorialKart.\"),\n",
    "    (1.0, \"Spark Mllib has TF-IDF.\")\n",
    "], [\"label\", \"sentence\"])\n",
    "\n",
    "tokenizer = Tokenizer(inputCol=\"sentence\", outputCol=\"words\")\n",
    "wordsData = tokenizer.transform(sentenceData)\n",
    "\n",
    "hashingTF = HashingTF(inputCol=\"words\", outputCol=\"rawFeatures\", numFeatures=20)\n",
    "featurizedData = hashingTF.transform(wordsData)\n",
    "# alternatively, CountVectorizer can also be used to get term frequency vectors\n",
    "\n",
    "idf = IDF(inputCol=\"rawFeatures\", outputCol=\"features\")\n",
    "idfModel = idf.fit(featurizedData)\n",
    "rescaledData = idfModel.transform(featurizedData)\n",
    "\n",
    "rescaledData.select(\"label\", \"rawFeatures\",\"features\").show()\n",
    " \n",
    "# spark.stop() "
   ]
  },
  {
   "cell_type": "code",
   "execution_count": null,
   "metadata": {},
   "outputs": [],
   "source": []
  }
 ],
 "metadata": {
  "kernelspec": {
   "display_name": "Python 3",
   "language": "python",
   "name": "python3"
  },
  "language_info": {
   "codemirror_mode": {
    "name": "ipython",
    "version": 3
   },
   "file_extension": ".py",
   "mimetype": "text/x-python",
   "name": "python",
   "nbconvert_exporter": "python",
   "pygments_lexer": "ipython3",
   "version": "3.7.2"
  }
 },
 "nbformat": 4,
 "nbformat_minor": 2
}
